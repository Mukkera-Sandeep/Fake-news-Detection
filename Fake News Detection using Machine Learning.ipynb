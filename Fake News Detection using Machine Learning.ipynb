import pandas as pd
import numpy as np
import string
import re
from sklearn.model_selection import train_test_split
from sklearn.metrics import accuracy_score
from sklearn.metrics import classification_report
data_fake=pd.read_csv('Fake.csv')
data_true=pd.read_csv('True.csv')
print(data_fake.shape)
data_fake.sample(5)
(23481, 4)
title	text	subject	date
13382	PANIC! REUTERS/IPSOS Will Radically Change Way...	B..b..but That can t be right Maybe we should ...	politics	Jul 30, 2016
5868	GOP’s Stunning Reactions To Trump’s Remarks O...	As the GOP presidential nominee, Republicans h...	News	June 14, 2016
1095	Trump Says He Doesn’t Have Any Investments In...	A new report from the New York Times reveals t...	News	June 18, 2017
10702	WOW! NEW Batch Of Emails Show Hillary’s State ...	A nonprofit legal watchdog claimed Thursday th...	politics	Jun 4, 2017
15856	WHY DID HARRY REID LIE ABOUT THE “ACCIDENT” He...	Dirty Harry must ve jarred something in his he...	politics	Apr 9, 2015
print(data_true.shape)
data_true.sample(5)
(21417, 4)
title	text	subject	date
8800	Trump and Christie join forces to attack Obama...	WASHINGTON (Reuters) - Republicans Donald Trum...	politicsNews	July 11, 2016
4055	Trump seeks to shrink federal role in educatio...	WASHINGTON (Reuters) - President Donald Trump ...	politicsNews	April 26, 2017
2896	U.S., China to meet in Washington on July 19 f...	WASHINGTON (Reuters) - Senior U.S. and Chinese...	politicsNews	July 6, 2017
3310	Some toast Comey testimony, others shrug at U....	WASHINGTON (Reuters) - Crowds packed U.S. bars...	politicsNews	June 8, 2017
11813	Senior Saudi prince says Trump's Jerusalem mov...	RIYADH (Reuters) - U.S. President Donald Trump...	worldnews	December 20, 2017
data_fake_unseen = data_fake.tail(10)
data_true_unseen = data_true.tail(10)

for i in range(23480,23470,-1):
    data_fake.drop([i],axis = 0, inplace = True)

for i in range(21416,21406,-1):
    data_true.drop([i],axis = 0, inplace = True)

print(data_true.shape)
(21407, 4)
data_fake.shape, data_true.shape
((23471, 4), (21407, 4))
data_fake['class']=0
data_true['class']=1
data_fake_unseen['class']=0
data_true_unseen['class']=1
C:\Users\ASUS\AppData\Local\Temp\ipykernel_11400\1714131927.py:1: SettingWithCopyWarning: 
A value is trying to be set on a copy of a slice from a DataFrame.
Try using .loc[row_indexer,col_indexer] = value instead

See the caveats in the documentation: https://pandas.pydata.org/pandas-docs/stable/user_guide/indexing.html#returning-a-view-versus-a-copy
  data_fake_unseen['class']=0
C:\Users\ASUS\AppData\Local\Temp\ipykernel_11400\1714131927.py:2: SettingWithCopyWarning: 
A value is trying to be set on a copy of a slice from a DataFrame.
Try using .loc[row_indexer,col_indexer] = value instead

See the caveats in the documentation: https://pandas.pydata.org/pandas-docs/stable/user_guide/indexing.html#returning-a-view-versus-a-copy
  data_true_unseen['class']=1
data_fake_unseen.head(10)
title	text	subject	date	class
23471	Seven Iranians freed in the prisoner swap have...	21st Century Wire says This week, the historic...	Middle-east	January 20, 2016	0
23472	#Hashtag Hell & The Fake Left	By Dady Chery and Gilbert MercierAll writers ...	Middle-east	January 19, 2016	0
23473	Astroturfing: Journalist Reveals Brainwashing ...	Vic Bishop Waking TimesOur reality is carefull...	Middle-east	January 19, 2016	0
23474	The New American Century: An Era of Fraud	Paul Craig RobertsIn the last years of the 20t...	Middle-east	January 19, 2016	0
23475	Hillary Clinton: ‘Israel First’ (and no peace ...	Robert Fantina CounterpunchAlthough the United...	Middle-east	January 18, 2016	0
23476	McPain: John McCain Furious That Iran Treated ...	21st Century Wire says As 21WIRE reported earl...	Middle-east	January 16, 2016	0
23477	JUSTICE? Yahoo Settles E-mail Privacy Class-ac...	21st Century Wire says It s a familiar theme. ...	Middle-east	January 16, 2016	0
23478	Sunnistan: US and Allied ‘Safe Zone’ Plan to T...	Patrick Henningsen 21st Century WireRemember ...	Middle-east	January 15, 2016	0
23479	How to Blow $700 Million: Al Jazeera America F...	21st Century Wire says Al Jazeera America will...	Middle-east	January 14, 2016	0
23480	10 U.S. Navy Sailors Held by Iranian Military ...	21st Century Wire says As 21WIRE predicted in ...	Middle-east	January 12, 2016	0
data_true_unseen.head(10)
title	text	subject	date	class
21407	Mata Pires, owner of embattled Brazil builder ...	SAO PAULO (Reuters) - Cesar Mata Pires, the ow...	worldnews	August 22, 2017	1
21408	U.S., North Korea clash at U.N. forum over nuc...	GENEVA (Reuters) - North Korea and the United ...	worldnews	August 22, 2017	1
21409	U.S., North Korea clash at U.N. arms forum on ...	GENEVA (Reuters) - North Korea and the United ...	worldnews	August 22, 2017	1
21410	Headless torso could belong to submarine journ...	COPENHAGEN (Reuters) - Danish police said on T...	worldnews	August 22, 2017	1
21411	North Korea shipments to Syria chemical arms a...	UNITED NATIONS (Reuters) - Two North Korean sh...	worldnews	August 21, 2017	1
21412	'Fully committed' NATO backs new U.S. approach...	BRUSSELS (Reuters) - NATO allies on Tuesday we...	worldnews	August 22, 2017	1
21413	LexisNexis withdrew two products from Chinese ...	LONDON (Reuters) - LexisNexis, a provider of l...	worldnews	August 22, 2017	1
21414	Minsk cultural hub becomes haven from authorities	MINSK (Reuters) - In the shadow of disused Sov...	worldnews	August 22, 2017	1
21415	Vatican upbeat on possibility of Pope Francis ...	MOSCOW (Reuters) - Vatican Secretary of State ...	worldnews	August 22, 2017	1
21416	Indonesia to buy $1.14 billion worth of Russia...	JAKARTA (Reuters) - Indonesia will buy 11 Sukh...	worldnews	August 22, 2017	1
df=pd.concat([data_fake, data_true], axis = 0)
df.sample(5)
title	text	subject	date	class
18140	EU should take advantage of drop in migrant in...	PARIS (Reuters) - European Union countries sho...	worldnews	October 6, 2017	1
2505	Reporter’s Question About Russia P*ssed Trump...	If you want to know how Trump treats the press...	News	February 16, 2017	0
9596	Trump, Sanders fans share hunger for campaign ...	BOSTON/NEW YORK (Reuters) - Supporters of U.S....	politicsNews	May 11, 2016	1
2449	Top Trump lieutenant Scaramucci lashes colleag...	(Note: Strong language in paragraph 3) By Ste...	politicsNews	July 27, 2017	1
13207	VIRAL VIDEO: MAN CALLS OUT BLACK LIVES MATTER ...	Jerry L Washington asked the obvious question:...	politics	Aug 20, 2016	0
df.columns
Index(['title', 'text', 'subject', 'date', 'class'], dtype='object')
df=df[['text','class']]
df=df.reset_index()
df.drop(columns=['index'])
text	class
0	Donald Trump just couldn t wish all Americans ...	0
1	House Intelligence Committee Chairman Devin Nu...	0
2	On Friday, it was revealed that former Milwauk...	0
3	On Christmas day, Donald Trump announced that ...	0
4	Pope Francis used his annual Christmas Day mes...	0
...	...	...
44873	ON BOARD A U.S. MILITARY AIRCRAFT (Reuters) - ...	1
44874	WASHINGTON (Reuters) - The United States sugge...	1
44875	WASHINGTON (Reuters) - The United States has d...	1
44876	ISLAMABAD (Reuters) - Outlining a new strategy...	1
44877	GENEVA (Reuters) - North Korea and the United ...	1
44878 rows × 2 columns

df.isnull().sum() 
index    0
text     0
class    0
dtype: int64
df.duplicated().sum()
np.int64(0)
Randomly shuffling the dataframe
df = df.sample(frac=1)
df.head()
index	text	class
11815	11815	The Democratic Party held a forum for race obs...	0
43763	20292	WASHINGTON (Reuters) - U.S. President Donald T...	1
21273	21273	This letter is quite possibly the most importa...	0
23461	23461	KILLED: Rancher and protest spokesman Robert ...	0
19246	19246		0
df.reset_index(inplace = True)
df=df.drop(columns=['index'])
df=df.drop(columns=['level_0'])
df.columns
Index(['text', 'class'], dtype='object')
df.shape
(44878, 2)
df.head()
text	class
0	The Democratic Party held a forum for race obs...	0
1	WASHINGTON (Reuters) - U.S. President Donald T...	1
2	This letter is quite possibly the most importa...	0
3	KILLED: Rancher and protest spokesman Robert ...	0
4		0
Preprocessing Text
import re
import string

def clean_text(text):
    text = text.lower()                                                # Convert text to lowercase
    text = re.sub(r'\[.*?\]', '', text)                                # Remove text in square brackets
    text = re.sub(r"\W", " ", text)                                    # Remove non-word characters (everything except numbers and letters)
    text = re.sub(r'https?://\S+|www\.\S+', '', text)                  # Removing URLs
    text = re.sub(r'<.*?>+', '', text)                                 # Remove HTML tags
    text = re.sub(r'[%s]' % re.escape(string.punctuation), '', text)    # Removing punctuation
    text = re.sub(r'\w*\d\w*', '', text)                               # Remove words containing numbers
    return text
df['text']=df['text'].apply(clean_text)
df['text']
0        the democratic party held a forum for race obs...
1        washington  reuters    u s  president donald t...
2        this letter is quite possibly the most importa...
3         killed  rancher and protest spokesman robert ...
4                                                         
                               ...                        
44873     social media went crazy last night when a pho...
44874     reuters    billionaire investor carl icahn en...
44875    moscow  reuters    a gunman opened fire in a p...
44876    midtown bbq   brew owner tony harrison was on ...
44877    most leaders  when they give statements on atr...
Name: text, Length: 44878, dtype: object
from sklearn.base import BaseEstimator, TransformerMixin
from nltk.stem import WordNetLemmatizer
from nltk.corpus import wordnet  # Import wordnet
import nltk
nltk.download('wordnet')
nltk.download('omw-1.4')
nltk.download('punkt')
nltk.download('averaged_perceptron_tagger')
[nltk_data] Downloading package wordnet to
[nltk_data]     C:\Users\ASUS\AppData\Roaming\nltk_data...
[nltk_data]   Package wordnet is already up-to-date!
[nltk_data] Downloading package omw-1.4 to
[nltk_data]     C:\Users\ASUS\AppData\Roaming\nltk_data...
[nltk_data]   Package omw-1.4 is already up-to-date!
[nltk_data] Downloading package punkt to
[nltk_data]     C:\Users\ASUS\AppData\Roaming\nltk_data...
[nltk_data]   Package punkt is already up-to-date!
[nltk_data] Downloading package averaged_perceptron_tagger to
[nltk_data]     C:\Users\ASUS\AppData\Roaming\nltk_data...
[nltk_data]   Package averaged_perceptron_tagger is already up-to-
[nltk_data]       date!
True
class Lemmatizer(BaseEstimator, TransformerMixin):
    def __init__(self):
        self.lemmatizer = WordNetLemmatizer()

    def get_wordnet_pos(self, tag):
        if tag.startswith('J'):
            return wordnet.ADJ
        elif tag.startswith('V'):
            return wordnet.VERB
        elif tag.startswith('N'):
            return wordnet.NOUN
        elif tag.startswith('R'):
            return wordnet.ADV
        else:
            return None

    def lemmatize_text(self, text):
        tokens = nltk.word_tokenize(text)
        pos_tags = nltk.pos_tag(tokens)
        lemmatized_sentence = [
            self.lemmatizer.lemmatize(word, self.get_wordnet_pos(tag) or wordnet.NOUN)
            for word, tag in pos_tags
        ]
        return " ".join(lemmatized_sentence)

    def fit(self, X, y=None):
        return self

    def transform(self, X, y=None):
        return [self.lemmatize_text(text) for text in X]
lemmatizer = Lemmatizer()
df['text'] = lemmatizer.transform(df['text'])
x = df['text']
y = df['class']
x_train, x_test, y_train, y_test = train_test_split(x,y,test_size = 0.20)
Creating vectors
from sklearn.feature_extraction.text import TfidfVectorizer

vectorization = TfidfVectorizer(ngram_range=(1,3),stop_words='english')
x_vec_train = vectorization.fit_transform(x_train)
x_vec_test = vectorization.transform(x_test)
x_vec_train.shape + x_vec_test.shape
(35902, 7987608, 8976, 7987608)
Model training
Logistic Regression

from sklearn.linear_model import LogisticRegression
LR = LogisticRegression()
LR.fit(x_vec_train, y_train)
LogisticRegression()
In a Jupyter environment, please rerun this cell to show the HTML representation or trust the notebook.
On GitHub, the HTML representation is unable to render, please try loading this page with nbviewer.org.
pred_lr = LR.predict(x_vec_test)
LR.score(x_vec_test, y_test)
0.9844028520499108
print (classification_report(y_test, pred_lr))
              precision    recall  f1-score   support

           0       0.99      0.98      0.99      4714
           1       0.97      0.99      0.98      4262

    accuracy                           0.98      8976
   macro avg       0.98      0.98      0.98      8976
weighted avg       0.98      0.98      0.98      8976

Decision Tree Classifier

from sklearn.tree import DecisionTreeClassifier

DT = DecisionTreeClassifier()
DT.fit(x_vec_train, y_train)
DecisionTreeClassifier()
In a Jupyter environment, please rerun this cell to show the HTML representation or trust the notebook.
On GitHub, the HTML representation is unable to render, please try loading this page with nbviewer.org.
pred_dt = DT.predict(x_vec_test)
DT.score(x_vec_test, y_test)
0.9975490196078431
print (classification_report(y_test, pred_lr))
              precision    recall  f1-score   support

           0       0.99      0.98      0.99      4714
           1       0.97      0.99      0.98      4262

    accuracy                           0.98      8976
   macro avg       0.98      0.98      0.98      8976
weighted avg       0.98      0.98      0.98      8976

Gradient Boost Classifier

from sklearn.ensemble import GradientBoostingClassifier

GB = GradientBoostingClassifier(random_state=0,n_estimators=60)
GB.fit(x_vec_train, y_train)
GradientBoostingClassifier(n_estimators=60, random_state=0)
In a Jupyter environment, please rerun this cell to show the HTML representation or trust the notebook.
On GitHub, the HTML representation is unable to render, please try loading this page with nbviewer.org.
pred_gb = GB.predict(x_vec_test)
GB.score(x_vec_test, y_test)
0.9958778966131907
print(classification_report(y_test, pred_gb))
              precision    recall  f1-score   support

           0       1.00      1.00      1.00      4714
           1       0.99      1.00      1.00      4262

    accuracy                           1.00      8976
   macro avg       1.00      1.00      1.00      8976
weighted avg       1.00      1.00      1.00      8976

Random Forest Classifier
from sklearn.ensemble import RandomForestClassifier

RF = RandomForestClassifier(random_state=0,n_jobs=-1,n_estimators=25)
RF.fit(x_vec_train, y_train)
RandomForestClassifier(n_estimators=25, n_jobs=-1, random_state=0)
In a Jupyter environment, please rerun this cell to show the HTML representation or trust the notebook.
On GitHub, the HTML representation is unable to render, please try loading this page with nbviewer.org.
pred_rf = RF.predict(x_vec_test)
RF.score(x_vec_test, y_test)
0.9790552584670231
print (classification_report(y_test, pred_rf))
              precision    recall  f1-score   support

           0       0.99      0.97      0.98      4714
           1       0.97      0.99      0.98      4262

    accuracy                           0.98      8976
   macro avg       0.98      0.98      0.98      8976
weighted avg       0.98      0.98      0.98      8976

Testing All Models together one Text
def output_lable(n):
    if n==0:
        return "Fake News"
    elif n==1:
        return "Not A Fake News"
    
def manual_testing(news):
    testing_news = {"text":[news]}
    new_def_test = pd.DataFrame(testing_news)
    new_def_test['text'] = new_def_test["text"].apply(clean_text)
    new_x_test = new_def_test["text"]
    
    new_xv_test = vectorization.transform(new_x_test)
    pred_LR = LR.predict(new_xv_test)
    pred_DT = DT.predict(new_xv_test)
    pred_GB = GB.predict(new_xv_test)
    pred_RF = RF.predict(new_xv_test)
    
    return print("\n\nLR Predicition: {} \nDT Prediction: {} \nGBC Prediction: {} \nRFC Prediction:{}".format(output_lable(pred_LR[0]),
                                                                                                             output_lable(pred_DT[0]),
                                                                                                             output_lable(pred_GB[0]),
                                                                                                             output_lable(pred_RF[0])))
Model Testing With Manual Entry
news=str(input())
manual_testing(news)

#True news
#21408,"U.S., North Korea clash at U.N. forum over nuclear weapons","GENEVA (Reuters) - North Korea and the United States clashed at a U.N. forum on Tuesday over their military intentions towards one another, with Pyongyang s envoy declaring it would  never  put its nuclear deterrent on the negotiating table. Japan, well within reach of North Korea s missiles, said the world must maintain pressure on the reclusive country to rein in its nuclear and missile programs and now was not the time for a resumption of multi-party talks. North Korea has pursued its weapons programs in defiance of U.N. Security Council sanctions and ignored all calls, including from major ally China, to stop, prompting a bellicose exchange of rhetoric between the North and the United States. North Korea justifies its weapons programs, including its recent threat to fire missiles towards the U.S. Pacific territory of Guam, by pointing to perceived U.S. hostility, such as military exercises with South Korea this week. U.S. disarmament ambassador Robert Wood told a U.N.-sponsored Conference on Disarmament in Geneva U.S. President Donald Trump s top priority was to protect the United States and its allies against the  growing threat  from North Korea and America was ready to use  the full range of capabilities  at its disposal. The  path to dialogue still remained an option  for Pyongyang and it had the choice between poverty and belligerence on the one hand and prosperity and acceptance. North Korea s envoy told the same forum the North s nuclear deterrent would never be up for negotiation, echoing Pyongyang s regular denunciation of U.S.  aggression .  The measures taken by the DPRK to strengthen its nuclear deterrence and develop inter-continental rockets is justifiable and a legitimate option for self-defense in the face of such apparent and real threats,  diplomat Ju Yong Chol told the forum, referring to  constant nuclear threats  by the United States. DPRK stands for the North s official name, the Democratic People s Republic of Korea. Regarding joint U.S.-South Korean military exercises that began on Monday, he warned:  The ongoing military adventure would certainly add gasoline to the fire, driving the current tense situation to further deterioration.  Japanese Foreign Minister Taro Kono said pressure must be maintained until the North demonstrated it would give up its nuclear program.  It s not the time to discuss (the resumption of) six-party talks,  Kono said, referring to stalled negotiations involving both Koreas, the United States, Russia, China and Japan.  It s time to exert pressure,  he told reporters. The head of the U.S. military s Pacific Command said diplomacy was key. Admiral Harry Harris was in South Korea to observe annual joint military drills with the South Korean military, which the North called a step towards nuclear conflict masterminded by  war maniacs .  So we hope and we work for diplomatic solutions to the challenge presented by Kim Jong Un,  Harris told reporters at a U.S. air base in Osan, about an hour from Seoul, referring to the North Korean leader. He said diplomacy was  the most important starting point  in response to the North s threat, when asked what actions by North Korea might trigger a preemptive U.S. strike against it.  As far as a timeline, it would be crazy for me to share with you those tripwires in advance. If we did that, it would hardly be a military strategy,  he said. The United States and South Korea began the long-planned exercises on Monday, called the Ulchi Freedom Guardian, which the allies have said are purely defensive. The drills involve tens of thousands of troops as well as computer simulations designed to prepare for war with a nuclear-capable North Korea. The United States and South Korea are technically still at war with the North because their 1950-53 conflict ended in a truce, not a peace treaty.  Delegations from about 20 countries spoke at the four-hour U.N. session, including Britain, France, Australia and South Korea, all of which criticized North Korea.  I would like to repeat the appeal to the DPRK to listen to the fact that there is no alternative to stopping the different provocations and to return to dialogue,  South Korean ambassador Kim Inchul said.  We have never threatened the DPRK with any attacks and we have never promoted the use of force.  ",worldnews,"August 22, 2017 ",1

LR Predicition: Not A Fake News 
DT Prediction: Not A Fake News 
GBC Prediction: Not A Fake News 
RFC Prediction:Not A Fake News
news=str(input())
manual_testing(news)

# fake news
#23480,10 U.S. Navy Sailors Held by Iranian Military – Signs of a Neocon Political Stunt,"21st Century Wire says As 21WIRE predicted in its new year s look ahead, we have a new  hostage  crisis underway.Today, Iranian military forces report that two small riverine U.S. Navy boats were seized in Iranian waters, and are currently being held on Iran s Farsi Island in the Persian Gulf. A total of 10 U.S. Navy personnel, nine men and one woman, have been detained by Iranian authorities. NAVY STRAYED: U.S. Navy patrol boat in the Persian Gulf (Image Source: USNI)According to the Pentagon, the initial narrative is as follows: The sailors were on a training mission around noon ET when their boat experienced mechanical difficulty and drifted into Iranian-claimed waters and were detained by the Iranian Coast Guard, officials added. The story has since been slightly revised by White House spokesman Josh Earnest to follow this narrative:The 2 boats were traveling en route from Kuwait to Bahrain, when they were stopped and detained by the Iranians.According to USNI, search and rescue teams from the Harry S. Truman Strike group were scrambled to aid the crew but stopped short after the crew was taken by the Iranians. We have been in contact with Iran and have received assurances that the crew and the vessels will be returned promptly,  Pentagon spokesman Peter Cook told AP. According to Persian Gulf TV: Farsi Island is one of the Iranian islands in the Persian Gulf, Bushehr province of Iran. There is an IRGC Navy base on this Island. The island has an area of about 0.25 km  and is completely restricted to public, due to top secret governmental activities. According to NBC News, U.S. State Department is in touch with Tehran officials and the Iranians recognize that the U.S. Navy straying off course was a mistake, and that the sailors will be released  within hours.  WAR INC: CNN s Wolf Blitzer wasted no time in ramping-up talk of military tension with Israeli-financed neocon Senator Tom Cotton.Neocon StuntAlready, the U.S. media, including CNN and FOX, are running with the talking point that,  this could not have come at a worse time for President Obama right before tonight s State Of Union speech, when he s trying to prove to the American people that Iran is a country that can be trusted to implement the historic nuclear deal. This latest Naval  controversy  also comes days before the implementation phase of the Iran Nuclear Deal. To say this is a coincidence might be naive.That said, could GOP and Israel-aligned members of the Pentagon or intelligence establishment have helped to engineer today s bizarre  mini-crisis  in order to help weaken U.S.-Iran relations, and by extension, Obama s controversial Iranian Nuclear Deal?This looks likely to be the case, as evidenced by the quick appearance of the Israel Lobby-sponsored, pro-war U.S. Senator Tom Cotton (R), placed by CNN to direct aggressive U.S. military talking points live on air as the story broke today. Cotton (photo, left) immediately called the event  hostile  and blamed Iran for the U.S. boat drifting into Iranian waters, and then blamed the  crisis  on President Obama, who he claims,  has emboldened the Iranian aggression. Cotton then goes on to tell a giant lie, on which his media handler, CNN s Wolf Blitzer, does not even blink, much less challenge Cotton s imaginary statement: The Iranians, who are largely responsible for killing our (American) soldiers in Iraq and Afghanistan. Cotton then went on to threaten Iran, saying that: These sailors and both vessels  need to be immediately released. If they are not released, then the Iran (nuclear) deal should not go forward, and military force will be on the table to retaliate for this act of aggression.  Cotton then proceeded to give a veiled (nuclear?) threat to Iran, saying that,  All (military) options should be on the table.  Would Washington s top operatives go so far as to engineer or exacerbate an international crisis such as this   by dispatching the boats off course, knowing full-well that Iran would not harm U.S. personnel, but using the incident to injure a lame duck? The answer is  yes , and they ve done it before In 1979, 52 American diplomats and citizens were held hostage for 444 days in what became known as the Iranian Hostage Crisis, which just happened to take place during a US presidential election cycle, with then president Jimmy Carter (D) running for reelection against challenger Ronald Reagan (R). The crisis, including a horrific failed rescue attempt, was used against Carter in the media. According to reports at the time Reagan campaign operatives had managed to do a backdoor deal with the elements of the new Iranian regime to  hold-off  releasing the hostages until after the election. In the end, Reagan won and took credit for that  victory .Not surprisingly, at the end of his prearranged CNN segment, Cotton invoked the  feckless foreign policy  of Jimmy Carter which  caused  the 1979 Iran Hostage Crisis, and compared that to President Obama s current policy.Of all the U.S. Officials CNN could have brought in on  short notice , they chose Senator Tom Cotton, the most hawkish and closest aligned to Israel. Clearly, this looks like a neocon stunt.Stay tuned for more updates.READ MORE IRAN NEWS AT: 21st Century Wire Iran Files",Middle-east,"January 12, 2016",0

LR Predicition: Fake News 
DT Prediction: Fake News 
GBC Prediction: Fake News 
RFC Prediction:Fake News
